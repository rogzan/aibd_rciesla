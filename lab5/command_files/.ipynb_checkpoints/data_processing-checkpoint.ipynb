{
 "cells": [
  {
   "cell_type": "markdown",
   "id": "a66f83d5-db3a-4126-b463-d6f3310a3418",
   "metadata": {},
   "source": [
    "# Laboratorium 5\n",
    "## Roksana Cieśla, gr.2, środa 12:45 </br></br>\n",
    "\n",
    "\n",
    "Celem zajęć jest zapoznanie się z protokołem TIER a także poznanie pojęcia \"tidy data\" i zastosowanie tych zasad przy porządkowaniu danych.\n",
    "\n",
    "Zbiór którym będę się zajmowała to zbiór numer 2: \"tb.csv\""
   ]
  },
  {
   "cell_type": "code",
   "execution_count": 7,
   "id": "ffa419c5-2aee-4fe1-8324-cd6f84c695f4",
   "metadata": {},
   "outputs": [],
   "source": [
    "# Wymagane biblioteki\n",
    "import numpy as np\n",
    "import pandas as pd\n",
    "import os\n",
    "import csv"
   ]
  },
  {
   "cell_type": "code",
   "execution_count": 8,
   "id": "9da0e4c8-a976-4f11-8dfd-92ebdc4ce4a8",
   "metadata": {},
   "outputs": [
    {
     "name": "stdout",
     "output_type": "stream",
     "text": [
      "/Users/roksanaciesla/Desktop/studia/5 semestr/AiBD/aibd_roksana_ciesla/lab5/original_data/tb.csv\n"
     ]
    }
   ],
   "source": [
    "# odczytuje scieżke do oryginalnego pliku w celu wczytania datasetu\n",
    "original_data_path = os.getcwd()[:-13] + \"original_data/tb.csv\"\n",
    "print(original_data_path)"
   ]
  },
  {
   "cell_type": "code",
   "execution_count": 10,
   "id": "d28c5759-960a-43e9-906b-398bd4f1b25d",
   "metadata": {},
   "outputs": [],
   "source": [
    "with open(original_data_path) as csvfile:\n",
    "    data = csv.reader(csvfile, delimiter=',')"
   ]
  },
  {
   "cell_type": "code",
   "execution_count": null,
   "id": "be1277bf-ce28-4545-b0d5-3c5172667e0c",
   "metadata": {},
   "outputs": [],
   "source": []
  }
 ],
 "metadata": {
  "kernelspec": {
   "display_name": "Python 3 (ipykernel)",
   "language": "python",
   "name": "python3"
  },
  "language_info": {
   "codemirror_mode": {
    "name": "ipython",
    "version": 3
   },
   "file_extension": ".py",
   "mimetype": "text/x-python",
   "name": "python",
   "nbconvert_exporter": "python",
   "pygments_lexer": "ipython3",
   "version": "3.9.12"
  }
 },
 "nbformat": 4,
 "nbformat_minor": 5
}
